{
 "cells": [
  {
   "cell_type": "markdown",
   "id": "0b48070e",
   "metadata": {},
   "source": [
    "## 1. Even or Odd"
   ]
  },
  {
   "cell_type": "code",
   "execution_count": 3,
   "id": "a5325537",
   "metadata": {},
   "outputs": [
    {
     "name": "stdout",
     "output_type": "stream",
     "text": [
      "is odd 21\n"
     ]
    }
   ],
   "source": [
    "# Write a program that asks the user for a number and prints whether it is even or odd.\n",
    "a = int(input(\"Enter the number\"))\n",
    "if a%2==0:\n",
    "    print(\"is even\" ,a)\n",
    "else:\n",
    "    print(\"is odd\", a)"
   ]
  },
  {
   "cell_type": "markdown",
   "id": "92fd5120",
   "metadata": {},
   "source": [
    "## 2. Temperature Converter"
   ]
  },
  {
   "cell_type": "code",
   "execution_count": null,
   "id": "0cd57cf8",
   "metadata": {},
   "outputs": [],
   "source": [
    "##Create a program that converts temperatures between Fahrenheit and Celsius. Ask the user which conversion they want to perform (\"F to C\" or \"C to F\") and then perform the selected conversion.\n",
    "\n",
    "print(\"Temperature Converter\")\n",
    "print(\"Choose conversion:\")\n",
    "print(\"1. F to C\")\n",
    "print(\"2. C to F\")\n",
    "\n",
    "choice = input(\"Enter your choice (1 or 2): \")\n",
    "\n",
    "if choice == \"1\":\n",
    "    f = float(input(\"Enter temperature in Fahrenheit: \"))\n",
    "    c = (f - 32) * 5 / 9\n",
    "    print(f\"{f}°F is equal to {c:.2f}°C\")\n",
    "elif choice == \"2\":\n",
    "    c = float(input(\"Enter temperature in Celsius: \"))\n",
    "    f = (c * 9 / 5) + 32\n",
    "    print(f\"{c}°C is equal to {f:.2f}°F\")\n",
    "else:\n",
    "    print(\"Invalid choice. Please enter 1 or 2.\")\n"
   ]
  },
  {
   "cell_type": "markdown",
   "id": "68a2cb20",
   "metadata": {},
   "source": [
    "## 3) Greatest number entered by User"
   ]
  },
  {
   "cell_type": "code",
   "execution_count": 3,
   "id": "110fa6f4",
   "metadata": {},
   "outputs": [],
   "source": [
    "a1 = int(input(\"Enter number  1:\"))\n",
    "a2 = int(input(\"Enter number 2 :\"))\n",
    "a3 = int(input(\"Enter number  3:\"))\n",
    "a4 = int(input(\"Enter number  4:\"))\n",
    "\n",
    "if (a1>a2 & a1>a3 & a1>a4):\n",
    "    print(\"greatest number is a1\",a1)\n",
    "elif (a2>a1 & a2>a3 & a2>a4):\n",
    "    print(\"greatest number is a2\",a2)\n",
    "elif (a3>a1 & a3>a2 & a3>a4):\n",
    "    print(\"Greatet number is a3 \",a3)\n",
    "elif (a4>a1 & a4>a2 & a4>a3):\n",
    "    print(\"Greatet number is a4\",a4)\n"
   ]
  },
  {
   "cell_type": "code",
   "execution_count": null,
   "id": "10a7d84b",
   "metadata": {},
   "outputs": [],
   "source": []
  }
 ],
 "metadata": {
  "kernelspec": {
   "display_name": "Python 3",
   "language": "python",
   "name": "python3"
  },
  "language_info": {
   "codemirror_mode": {
    "name": "ipython",
    "version": 3
   },
   "file_extension": ".py",
   "mimetype": "text/x-python",
   "name": "python",
   "nbconvert_exporter": "python",
   "pygments_lexer": "ipython3",
   "version": "3.13.1"
  }
 },
 "nbformat": 4,
 "nbformat_minor": 5
}
